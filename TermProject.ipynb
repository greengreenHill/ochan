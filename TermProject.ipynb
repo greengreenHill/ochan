{
 "cells": [
  {
   "cell_type": "markdown",
   "id": "adec6300",
   "metadata": {},
   "source": [
    "<header style=\" text-align: center; color:blue; font-size:45px\">Order Imbalance Based Strategy</header>"
   ]
  },
  {
   "cell_type": "markdown",
   "id": "b42637a7",
   "metadata": {},
   "source": [
    "<h1 style=\"color:purple\">Author</h1>\n",
    "\n",
    "  \n",
    "- Name:Candace Fu Ka Yi                      \n",
    "- Student ID: 20764468\n"
   ]
  },
  {
   "cell_type": "markdown",
   "id": "b17c24b6",
   "metadata": {},
   "source": [
    "## Introduction"
   ]
  },
  {
   "cell_type": "markdown",
   "id": "9ed287fe",
   "metadata": {},
   "source": [
    "Many studies have been conducted to describe the relationship between the trade activity(volume) and the price change. Ask (Sell) and Bid (Buy) orders on the border book might signal the direction of market movement. To  model the possible pattern between the order imbalance (between ask and bid sides) and price change, we will build new predictors and check the performance of multiple linear regression in paper trading (backtesting with historical data). \n",
    "\n",
    "In this project, you will finish 4 tasks independently. It is not a copy-and-paste project. But if you can complete this project by yourself, it shows that you have passed the entry-level as a data analyst. "
   ]
  },
  {
   "cell_type": "markdown",
   "id": "0be48573",
   "metadata": {},
   "source": [
    "## Data"
   ]
  },
  {
   "cell_type": "markdown",
   "id": "4f2bb029",
   "metadata": {},
   "source": [
    "Totally we have 10 days' data"
   ]
  },
  {
   "cell_type": "code",
   "execution_count": 202,
   "id": "48124fd6",
   "metadata": {},
   "outputs": [],
   "source": [
    "import pandas as pd\n",
    "import numpy as np\n",
    "import os, math, pathlib\n",
    "from os import listdir\n",
    "from multiprocessing import Process\n",
    "import warnings\n",
    "warnings.filterwarnings('ignore')"
   ]
  },
  {
   "cell_type": "code",
   "execution_count": 203,
   "id": "f4a19502",
   "metadata": {},
   "outputs": [
    {
     "name": "stdout",
     "output_type": "stream",
     "text": [
      "10\n",
      "['20201221_rb2105.csv', '20201222_rb2105.csv', '20201223_rb2105.csv', '20201224_rb2105.csv', '20201225_rb2105.csv', '20210104_rb2105.csv', '20210105_rb2105.csv', '20210106_rb2105.csv', '20210107_rb2105.csv', '20210108_rb2105.csv']\n"
     ]
    }
   ],
   "source": [
    "stockpath = '/Users/candacefu/Desktop/Assignment/data/'\n",
    "inputfilename = listdir(stockpath) # get all file names in this folder\n",
    "inputfilename = sorted(inputfilename)[:] # sort file names \n",
    "number = len(inputfilename)\n",
    "print(number)\n",
    "print(inputfilename)"
   ]
  },
  {
   "cell_type": "markdown",
   "id": "fd3da61c",
   "metadata": {},
   "source": [
    "We list file names for these 10 days.  Notice that they are in time order. "
   ]
  },
  {
   "cell_type": "code",
   "execution_count": 204,
   "id": "aac51964",
   "metadata": {},
   "outputs": [
    {
     "data": {
      "text/plain": [
       "('20201221_rb2105.csv', '20210108_rb2105.csv')"
      ]
     },
     "execution_count": 204,
     "metadata": {},
     "output_type": "execute_result"
    }
   ],
   "source": [
    "inputfilename[0],inputfilename[-1]"
   ]
  },
  {
   "cell_type": "markdown",
   "id": "40920a2b",
   "metadata": {},
   "source": [
    "For example, we can read the oldest data as follows."
   ]
  },
  {
   "cell_type": "code",
   "execution_count": 205,
   "id": "bf28d127",
   "metadata": {},
   "outputs": [
    {
     "data": {
      "text/html": [
       "<div>\n",
       "<style scoped>\n",
       "    .dataframe tbody tr th:only-of-type {\n",
       "        vertical-align: middle;\n",
       "    }\n",
       "\n",
       "    .dataframe tbody tr th {\n",
       "        vertical-align: top;\n",
       "    }\n",
       "\n",
       "    .dataframe thead th {\n",
       "        text-align: right;\n",
       "    }\n",
       "</style>\n",
       "<table border=\"1\" class=\"dataframe\">\n",
       "  <thead>\n",
       "    <tr style=\"text-align: right;\">\n",
       "      <th></th>\n",
       "      <th>AskPrice</th>\n",
       "      <th>BidPrice</th>\n",
       "      <th>AskVolume</th>\n",
       "      <th>BidVolume</th>\n",
       "    </tr>\n",
       "  </thead>\n",
       "  <tbody>\n",
       "    <tr>\n",
       "      <th>2020-12-21 09:00:00.500</th>\n",
       "      <td>4445.0</td>\n",
       "      <td>4419.0</td>\n",
       "      <td>467.0</td>\n",
       "      <td>87.0</td>\n",
       "    </tr>\n",
       "    <tr>\n",
       "      <th>2020-12-21 09:00:01.000</th>\n",
       "      <td>4445.0</td>\n",
       "      <td>4444.0</td>\n",
       "      <td>88.0</td>\n",
       "      <td>67.0</td>\n",
       "    </tr>\n",
       "    <tr>\n",
       "      <th>2020-12-21 09:00:01.500</th>\n",
       "      <td>4433.0</td>\n",
       "      <td>4420.0</td>\n",
       "      <td>6.0</td>\n",
       "      <td>462.0</td>\n",
       "    </tr>\n",
       "    <tr>\n",
       "      <th>2020-12-21 09:00:02.000</th>\n",
       "      <td>4430.0</td>\n",
       "      <td>4428.0</td>\n",
       "      <td>40.0</td>\n",
       "      <td>9.0</td>\n",
       "    </tr>\n",
       "    <tr>\n",
       "      <th>2020-12-21 09:00:02.500</th>\n",
       "      <td>4427.0</td>\n",
       "      <td>4426.0</td>\n",
       "      <td>1.0</td>\n",
       "      <td>81.0</td>\n",
       "    </tr>\n",
       "  </tbody>\n",
       "</table>\n",
       "</div>"
      ],
      "text/plain": [
       "                         AskPrice  BidPrice  AskVolume  BidVolume\n",
       "2020-12-21 09:00:00.500    4445.0    4419.0      467.0       87.0\n",
       "2020-12-21 09:00:01.000    4445.0    4444.0       88.0       67.0\n",
       "2020-12-21 09:00:01.500    4433.0    4420.0        6.0      462.0\n",
       "2020-12-21 09:00:02.000    4430.0    4428.0       40.0        9.0\n",
       "2020-12-21 09:00:02.500    4427.0    4426.0        1.0       81.0"
      ]
     },
     "execution_count": 205,
     "metadata": {},
     "output_type": "execute_result"
    }
   ],
   "source": [
    "n=10\n",
    "data=pd.read_csv(stockpath+inputfilename[-n],index_col=0)\n",
    "data.head()"
   ]
  },
  {
   "cell_type": "markdown",
   "id": "32a20bfc",
   "metadata": {},
   "source": [
    "We  read data on Dec 21 , 2020, which has 4 columns. "
   ]
  },
  {
   "cell_type": "markdown",
   "id": "dd446042",
   "metadata": {},
   "source": [
    "## Task 1 - Prepare the Train and Test (10%)"
   ]
  },
  {
   "cell_type": "markdown",
   "id": "67ad6b17",
   "metadata": {},
   "source": [
    "Please use the first 7 days' data to prepare a training data and the remaining (more recent) 3 days' data as the test data. "
   ]
  },
  {
   "cell_type": "code",
   "execution_count": 206,
   "id": "f85f6385",
   "metadata": {},
   "outputs": [
    {
     "name": "stdout",
     "output_type": "stream",
     "text": [
      "                         AskPrice  BidPrice  AskVolume  BidVolume\n",
      "2020-12-21 09:00:00.500    4445.0    4419.0      467.0       87.0\n",
      "2020-12-21 09:00:01.000    4445.0    4444.0       88.0       67.0\n",
      "2020-12-21 09:00:01.500    4433.0    4420.0        6.0      462.0\n",
      "2020-12-21 09:00:02.000    4430.0    4428.0       40.0        9.0\n",
      "2020-12-21 09:00:02.500    4427.0    4426.0        1.0       81.0\n",
      "...                           ...       ...        ...        ...\n",
      "2021-01-05 14:59:58.000    4398.0    4397.0      120.0      201.0\n",
      "2021-01-05 14:59:58.500    4398.0    4397.0       92.0      164.0\n",
      "2021-01-05 14:59:59.000    4398.0    4397.0       84.0       35.0\n",
      "2021-01-05 14:59:59.500    4398.0    4397.0       47.0       46.0\n",
      "2021-01-05 15:00:00.000    4398.0    4397.0       84.0       30.0\n",
      "\n",
      "[236453 rows x 4 columns]\n"
     ]
    }
   ],
   "source": [
    "data=pd.read_csv(stockpath+inputfilename[0],index_col=0)\n",
    "train=data\n",
    "\n",
    "for i in range(6):\n",
    "    data=pd.read_csv(stockpath+inputfilename[i+1],index_col=0)\n",
    "    train = pd.concat([train,data]) \n",
    "print(train)"
   ]
  },
  {
   "cell_type": "code",
   "execution_count": 207,
   "id": "62ffaf2e",
   "metadata": {},
   "outputs": [
    {
     "name": "stdout",
     "output_type": "stream",
     "text": [
      "                         AskPrice  BidPrice  AskVolume  BidVolume\n",
      "2021-01-04 21:00:00.500    4389.0    4388.0        2.0      173.0\n",
      "2021-01-04 21:00:01.000    4394.0    4393.0       70.0       35.0\n",
      "2021-01-04 21:00:01.500    4392.0    4391.0       36.0        1.0\n",
      "2021-01-04 21:00:02.000    4393.0    4392.0       11.0        4.0\n",
      "2021-01-04 21:00:02.500    4389.0    4388.0       95.0      274.0\n",
      "...                           ...       ...        ...        ...\n",
      "2021-01-08 14:59:58.000    4486.0    4485.0       35.0       15.0\n",
      "2021-01-08 14:59:58.500    4485.0    4484.0        1.0      291.0\n",
      "2021-01-08 14:59:59.000    4485.0    4484.0        7.0      282.0\n",
      "2021-01-08 14:59:59.500    4487.0    4486.0      221.0        5.0\n",
      "2021-01-08 15:00:00.000    4487.0    4486.0      204.0        5.0\n",
      "\n",
      "[165594 rows x 4 columns]\n"
     ]
    }
   ],
   "source": [
    "data=pd.read_csv(stockpath+inputfilename[6],index_col=0)\n",
    "test=data\n",
    "\n",
    "for i in range(6,9):\n",
    "    data=pd.read_csv(stockpath+inputfilename[i+1],index_col=0)\n",
    "    test = pd.concat([test,data])\n",
    "print(test)"
   ]
  },
  {
   "cell_type": "markdown",
   "id": "172df72d",
   "metadata": {},
   "source": [
    "## Task 2: Build Features (50%)\n",
    "For both training and test data, build predictors and response"
   ]
  },
  {
   "cell_type": "markdown",
   "id": "a5109979",
   "metadata": {},
   "source": [
    "First build mid price\n",
    "$$Mid_t=\\frac{AskPrice_t+BidPrice_t}{2}$$"
   ]
  },
  {
   "cell_type": "markdown",
   "id": "bd84a0fc",
   "metadata": {},
   "source": [
    "The frequency of the data is 0.5 second. We want to predict the price change in 10 seconds. Build Y variable \n",
    "$$\n",
    "Y_t=\\frac{Mid_{t+1}+Mid_{t+2}+\\ldots+Mid_{t+20}}{20}-Mid_t\n",
    "$$\n",
    "That is, we calculate the average changes of prices for the next 10 seconds.  "
   ]
  },
  {
   "cell_type": "code",
   "execution_count": 208,
   "id": "3e5ba46e",
   "metadata": {},
   "outputs": [
    {
     "name": "stdout",
     "output_type": "stream",
     "text": [
      "                         AskPrice  BidPrice  AskVolume  BidVolume  MidPrice  \\\n",
      "2020-12-21 09:00:00.500    4445.0    4419.0      467.0       87.0    4432.0   \n",
      "2020-12-21 09:00:01.000    4445.0    4444.0       88.0       67.0    4444.5   \n",
      "2020-12-21 09:00:01.500    4433.0    4420.0        6.0      462.0    4426.5   \n",
      "2020-12-21 09:00:02.000    4430.0    4428.0       40.0        9.0    4429.0   \n",
      "2020-12-21 09:00:02.500    4427.0    4426.0        1.0       81.0    4426.5   \n",
      "...                           ...       ...        ...        ...       ...   \n",
      "2021-01-05 14:59:58.000    4398.0    4397.0      120.0      201.0    4397.5   \n",
      "2021-01-05 14:59:58.500    4398.0    4397.0       92.0      164.0    4397.5   \n",
      "2021-01-05 14:59:59.000    4398.0    4397.0       84.0       35.0    4397.5   \n",
      "2021-01-05 14:59:59.500    4398.0    4397.0       47.0       46.0    4397.5   \n",
      "2021-01-05 15:00:00.000    4398.0    4397.0       84.0       30.0    4397.5   \n",
      "\n",
      "                            Y_t  \n",
      "2020-12-21 09:00:00.500  -9.525  \n",
      "2020-12-21 09:00:01.000 -23.675  \n",
      "2020-12-21 09:00:01.500  -6.425  \n",
      "2020-12-21 09:00:02.000  -9.750  \n",
      "2020-12-21 09:00:02.500  -7.950  \n",
      "...                         ...  \n",
      "2021-01-05 14:59:58.000   0.000  \n",
      "2021-01-05 14:59:58.500   0.000  \n",
      "2021-01-05 14:59:59.000   0.000  \n",
      "2021-01-05 14:59:59.500   0.000  \n",
      "2021-01-05 15:00:00.000   0.000  \n",
      "\n",
      "[236453 rows x 6 columns]\n"
     ]
    }
   ],
   "source": [
    "Y = [] \n",
    "\n",
    "train['MidPrice'] = (train['AskPrice'] + train['BidPrice'])/2\n",
    "for i in range(len(train)-20):\n",
    "    total_20 = 0\n",
    "    for j in range(1,21):\n",
    "        total_20 += train.MidPrice[i+j]\n",
    "    Y_t = (total_20)/20 - train.MidPrice[i]\n",
    "    Y.append(Y_t)\n",
    "for i in range(20):\n",
    "    Y.append(int(0))\n",
    "train['Y_t'] = Y\n",
    "print(train)\n"
   ]
  },
  {
   "cell_type": "markdown",
   "id": "2909cc6f",
   "metadata": {},
   "source": [
    "Next we build predictors "
   ]
  },
  {
   "cell_type": "markdown",
   "id": "e9d20ac1",
   "metadata": {},
   "source": [
    "#### Volume Order ImBalance"
   ]
  },
  {
   "cell_type": "markdown",
   "id": "2dfb29a9",
   "metadata": {},
   "source": [
    "First Build \n",
    "$$\n",
    "OI_t=\\delta V_t^B-\\delta V_t^A\n",
    "$$"
   ]
  },
  {
   "cell_type": "markdown",
   "id": "0ef55c14",
   "metadata": {},
   "source": [
    "where\n",
    "\n",
    "$$\n",
    "\\delta V_t^B=\\left\\{\\begin{array}{cl}0, & \\mbox { if } P_t^B<P_{t-1}^B\\\\V_t^B-V_{t-1}^B, & \\mbox { if } P_t^B=P_{t-1}^B\\\\V_{t}^B, & \\mbox { if } P_t^B>P_{t-1}^B\\end{array}\\right.\n",
    "$$\n",
    "and \n",
    "$$\n",
    "\\delta V_t^A=\\left\\{\\begin{array}{cl}V_t^A, & \\mbox { if } P_t^A<P_{t-1}^A\\\\V_t^A-V_{t-1}^A, & \\mbox { if } P_t^A=P_{t-1}^A\\\\0, & \\mbox { if } P_t^A>P_{t-1}^A\\end{array}\\right.\n",
    "$$"
   ]
  },
  {
   "cell_type": "markdown",
   "id": "145a7d29",
   "metadata": {},
   "source": [
    "where $V_t^A,V_t^B$ are ask and bid volumes, $P_t^A,P_t^B$ are ask and bid prices"
   ]
  },
  {
   "cell_type": "markdown",
   "id": "2db0cb18",
   "metadata": {},
   "source": [
    "Use shift(2),shift(4) ... operators, we  build $OI_{t-2},OI_{t-4},OI_{t-6},OI_{t-8}, OI_{t-10}$, totally 6 predictors including $OI_t$"
   ]
  },
  {
   "cell_type": "code",
   "execution_count": 209,
   "id": "87d0c073",
   "metadata": {
    "scrolled": true
   },
   "outputs": [
    {
     "name": "stdout",
     "output_type": "stream",
     "text": [
      "                         AskPrice  BidPrice  AskVolume  BidVolume  MidPrice  \\\n",
      "2020-12-21 09:00:00.500    4445.0    4419.0      467.0       87.0    4432.0   \n",
      "2020-12-21 09:00:01.000    4445.0    4444.0       88.0       67.0    4444.5   \n",
      "2020-12-21 09:00:01.500    4433.0    4420.0        6.0      462.0    4426.5   \n",
      "2020-12-21 09:00:02.000    4430.0    4428.0       40.0        9.0    4429.0   \n",
      "2020-12-21 09:00:02.500    4427.0    4426.0        1.0       81.0    4426.5   \n",
      "...                           ...       ...        ...        ...       ...   \n",
      "2021-01-05 14:59:48.000    4399.0    4398.0      378.0       70.0    4398.5   \n",
      "2021-01-05 14:59:48.500    4399.0    4398.0      394.0        1.0    4398.5   \n",
      "2021-01-05 14:59:49.000    4398.0    4397.0       15.0      238.0    4397.5   \n",
      "2021-01-05 14:59:49.500    4398.0    4397.0       45.0      252.0    4397.5   \n",
      "2021-01-05 14:59:50.000    4398.0    4397.0        5.0      248.0    4397.5   \n",
      "\n",
      "                            Y_t     OI  \n",
      "2020-12-21 09:00:00.500  -9.525    0.0  \n",
      "2020-12-21 09:00:01.000 -23.675  446.0  \n",
      "2020-12-21 09:00:01.500  -6.425   -6.0  \n",
      "2020-12-21 09:00:02.000  -9.750  -31.0  \n",
      "2020-12-21 09:00:02.500  -7.950   -1.0  \n",
      "...                         ...    ...  \n",
      "2021-01-05 14:59:48.000  -0.700  -35.0  \n",
      "2021-01-05 14:59:48.500  -0.750  -85.0  \n",
      "2021-01-05 14:59:49.000   0.250  -15.0  \n",
      "2021-01-05 14:59:49.500   0.250  -16.0  \n",
      "2021-01-05 14:59:50.000   0.250   36.0  \n",
      "\n",
      "[236433 rows x 7 columns]\n"
     ]
    }
   ],
   "source": [
    "OI = [0]\n",
    "d_V_b = []\n",
    "d_V_a = []\n",
    "for i in range(1, len(train)):\n",
    "    if train.BidPrice[i] < train.BidPrice[i-1]:\n",
    "        d_V_b.append(0)\n",
    "    elif train.BidPrice[i] == train.BidPrice[i-1]:\n",
    "        d_V_b.append(train.BidVolume[i] - train.BidVolume[i-1])\n",
    "    elif train.BidPrice[i] > train.BidPrice[i-1]:\n",
    "        d_V_b.append(train.BidVolume[i])\n",
    "    \n",
    "    if train.AskPrice[i] < train.AskPrice[i-1]:\n",
    "        d_V_a.append(train.AskVolume[i])\n",
    "    elif train.AskPrice[i] == train.AskPrice[i-1]:\n",
    "        d_V_a.append(train.AskVolume[i] - train.AskVolume[i-1])\n",
    "    elif train.AskPrice[i] > train.AskPrice[i-1]:\n",
    "        d_V_a.append(0)\n",
    "        \n",
    "for i in range(len(train)-1):\n",
    "    OI.append(d_V_b[i]-d_V_a[i])\n",
    "\n",
    "train['OI'] = OI\n",
    "\n",
    "print(train)"
   ]
  },
  {
   "cell_type": "code",
   "execution_count": 210,
   "id": "7de6083e",
   "metadata": {},
   "outputs": [
    {
     "name": "stdout",
     "output_type": "stream",
     "text": [
      "                            OI   OI-2   OI-4   OI-6   OI-8  OI-10\n",
      "2020-12-21 09:00:05.500  187.0  -55.0 -275.0   -1.0   -6.0    0.0\n",
      "2020-12-21 09:00:06.000 -532.0  -31.0   -9.0  -27.0  -31.0  446.0\n",
      "2020-12-21 09:00:06.500  321.0  187.0  -55.0 -275.0   -1.0   -6.0\n",
      "2020-12-21 09:00:07.000 -861.0 -532.0  -31.0   -9.0  -27.0  -31.0\n",
      "2020-12-21 09:00:07.500    0.0  321.0  187.0  -55.0 -275.0   -1.0\n",
      "...                        ...    ...    ...    ...    ...    ...\n",
      "2021-01-05 14:59:48.000  -35.0  147.0  -12.0    2.0  -11.0   -2.0\n",
      "2021-01-05 14:59:48.500  -85.0  -62.0   10.0    0.0  -20.0  -29.0\n",
      "2021-01-05 14:59:49.000  -15.0  -35.0  147.0  -12.0    2.0  -11.0\n",
      "2021-01-05 14:59:49.500  -16.0  -85.0  -62.0   10.0    0.0  -20.0\n",
      "2021-01-05 14:59:50.000   36.0  -15.0  -35.0  147.0  -12.0    2.0\n",
      "\n",
      "[236423 rows x 6 columns]\n",
      "                          Y_t\n",
      "2020-12-21 09:00:05.500 -5.65\n",
      "2020-12-21 09:00:06.000 -6.05\n",
      "2020-12-21 09:00:06.500 -6.45\n",
      "2020-12-21 09:00:07.000 -5.85\n",
      "2020-12-21 09:00:07.500 -6.25\n",
      "...                       ...\n",
      "2021-01-05 14:59:48.000 -0.70\n",
      "2021-01-05 14:59:48.500 -0.75\n",
      "2021-01-05 14:59:49.000  0.25\n",
      "2021-01-05 14:59:49.500  0.25\n",
      "2021-01-05 14:59:50.000  0.25\n",
      "\n",
      "[236423 rows x 1 columns]\n"
     ]
    }
   ],
   "source": [
    "for i in range(1, 6):\n",
    "    train['OI-' + str(2*i) + ''] = train.OI.shift(periods=2*i)\n",
    "    \n",
    "train = train.drop(train.index[range(10)])\n",
    "    \n",
    "train_OI = train.drop(train.columns[[0,1,2,3,4,5]], axis = 1)\n",
    "train_Y = train.drop(train.columns[[0,1,2,3,4,6,7,8,9,10,11]], axis = 1)\n",
    "print(train_OI)\n",
    "print(train_Y)"
   ]
  },
  {
   "cell_type": "markdown",
   "id": "3eadae57",
   "metadata": {},
   "source": [
    "## Task 3: Make Multiple Linear Regression (20%)"
   ]
  },
  {
   "cell_type": "markdown",
   "id": "43e5b189",
   "metadata": {},
   "source": [
    "Build multiple linear regression to predict $Y_t$ with $[OI_t, OI_{t-2},OI_{t-4},OI_{t-6},OI_{t-8}, OI_{t-10}]$ in training data. "
   ]
  },
  {
   "cell_type": "code",
   "execution_count": 211,
   "id": "f9c5e5c7",
   "metadata": {},
   "outputs": [
    {
     "name": "stdout",
     "output_type": "stream",
     "text": [
      "                                 OLS Regression Results                                \n",
      "=======================================================================================\n",
      "Dep. Variable:                    Y_t   R-squared (uncentered):                   0.008\n",
      "Model:                            OLS   Adj. R-squared (uncentered):              0.008\n",
      "Method:                 Least Squares   F-statistic:                              326.0\n",
      "Date:                Tue, 30 Nov 2021   Prob (F-statistic):                        0.00\n",
      "Time:                        17:57:05   Log-Likelihood:                     -4.0139e+05\n",
      "No. Observations:              236423   AIC:                                  8.028e+05\n",
      "Df Residuals:                  236417   BIC:                                  8.029e+05\n",
      "Df Model:                           6                                                  \n",
      "Covariance Type:            nonrobust                                                  \n",
      "==============================================================================\n",
      "                 coef    std err          t      P>|t|      [0.025      0.975]\n",
      "------------------------------------------------------------------------------\n",
      "OI             0.0010   2.17e-05     43.993      0.000       0.001       0.001\n",
      "OI-2          -0.0002   2.19e-05     -8.121      0.000      -0.000      -0.000\n",
      "OI-4       -7.053e-05   2.19e-05     -3.214      0.001      -0.000   -2.75e-05\n",
      "OI-6        1.188e-06   2.19e-05      0.054      0.957   -4.18e-05    4.42e-05\n",
      "OI-8        2.638e-05   2.19e-05      1.202      0.229   -1.66e-05    6.94e-05\n",
      "OI-10       1.215e-05   2.17e-05      0.559      0.576   -3.04e-05    5.47e-05\n",
      "==============================================================================\n",
      "Omnibus:                   473175.723   Durbin-Watson:                   0.199\n",
      "Prob(Omnibus):                  0.000   Jarque-Bera (JB):      10138526800.620\n",
      "Skew:                          15.544   Prob(JB):                         0.00\n",
      "Kurtosis:                    1017.015   Cond. No.                         1.32\n",
      "==============================================================================\n",
      "\n",
      "Notes:\n",
      "[1] R² is computed without centering (uncentered) since the model does not contain a constant.\n",
      "[2] Standard Errors assume that the covariance matrix of the errors is correctly specified.\n"
     ]
    }
   ],
   "source": [
    "import statsmodels.api as sm\n",
    "mod = sm.OLS(train_Y, train_OI).fit()\n",
    "print(mod.summary())"
   ]
  },
  {
   "cell_type": "markdown",
   "id": "6e1dd0c5",
   "metadata": {},
   "source": [
    "Check if there exists multicollinearity and check the residuals to see if the assumptions are satisfied. Discuss your results. "
   ]
  },
  {
   "cell_type": "markdown",
   "id": "46191f8a",
   "metadata": {},
   "source": [
    "Using the model you build with training data, get predictions in both training and test data. Comparing Adjusted $R^2$ of the model in both train and test datasets, how to evaluate your model? Overfitting? Good Signal?"
   ]
  },
  {
   "cell_type": "code",
   "execution_count": 212,
   "id": "348b7f67",
   "metadata": {},
   "outputs": [
    {
     "name": "stdout",
     "output_type": "stream",
     "text": [
      "                                 OLS Regression Results                                \n",
      "=======================================================================================\n",
      "Dep. Variable:                    Y_t   R-squared (uncentered):                   0.019\n",
      "Model:                            OLS   Adj. R-squared (uncentered):              0.019\n",
      "Method:                 Least Squares   F-statistic:                              542.9\n",
      "Date:                Tue, 30 Nov 2021   Prob (F-statistic):                        0.00\n",
      "Time:                        17:57:55   Log-Likelihood:                     -2.0738e+05\n",
      "No. Observations:              165584   AIC:                                  4.148e+05\n",
      "Df Residuals:                  165578   BIC:                                  4.148e+05\n",
      "Df Model:                           6                                                  \n",
      "Covariance Type:            nonrobust                                                  \n",
      "==============================================================================\n",
      "                 coef    std err          t      P>|t|      [0.025      0.975]\n",
      "------------------------------------------------------------------------------\n",
      "OI             0.0011   2.14e-05     53.317      0.000       0.001       0.001\n",
      "OI-2        9.053e-05   2.14e-05      4.222      0.000    4.85e-05       0.000\n",
      "OI-4           0.0002   2.14e-05      8.125      0.000       0.000       0.000\n",
      "OI-6           0.0002   2.14e-05      8.908      0.000       0.000       0.000\n",
      "OI-8           0.0002   2.14e-05      7.304      0.000       0.000       0.000\n",
      "OI-10        9.83e-05   2.14e-05      4.596      0.000    5.64e-05       0.000\n",
      "==============================================================================\n",
      "Omnibus:                    40907.965   Durbin-Watson:                   0.244\n",
      "Prob(Omnibus):                  0.000   Jarque-Bera (JB):          1509274.816\n",
      "Skew:                          -0.482   Prob(JB):                         0.00\n",
      "Kurtosis:                      17.759   Cond. No.                         1.17\n",
      "==============================================================================\n",
      "\n",
      "Notes:\n",
      "[1] R² is computed without centering (uncentered) since the model does not contain a constant.\n",
      "[2] Standard Errors assume that the covariance matrix of the errors is correctly specified.\n"
     ]
    }
   ],
   "source": [
    "Y = []\n",
    "\n",
    "\n",
    "test['MidPrice'] = (test['AskPrice'] + test['BidPrice'])/2\n",
    "for i in range(len(test)-20):\n",
    "    total_20 = 0\n",
    "    for j in range(1,21):\n",
    "        total_20 += test.MidPrice[i+j]\n",
    "    Y_t = (total_20)/20 - test.MidPrice[i]\n",
    "    Y.append(Y_t)\n",
    "for i in range(20):\n",
    "    Y.append(int(0))\n",
    "test['Y_t'] = Y\n",
    "OI = [0]\n",
    "d_V_b = []\n",
    "d_V_a = []\n",
    "for i in range(1, len(test)):\n",
    "    if test.BidPrice[i] < test.BidPrice[i-1]:\n",
    "        d_V_b.append(0)\n",
    "    elif test.BidPrice[i] == test.BidPrice[i-1]:\n",
    "        d_V_b.append(test.BidVolume[i] - test.BidVolume[i-1])\n",
    "    elif test.BidPrice[i] > test.BidPrice[i-1]:\n",
    "        d_V_b.append(test.BidVolume[i])\n",
    "    \n",
    "    if test.AskPrice[i] < test.AskPrice[i-1]:\n",
    "        d_V_a.append(test.AskVolume[i])\n",
    "    elif test.AskPrice[i] == test.AskPrice[i-1]:\n",
    "        d_V_a.append(test.AskVolume[i] - test.AskVolume[i-1])\n",
    "    elif test.AskPrice[i] > test.AskPrice[i-1]:\n",
    "        d_V_a.append(0)\n",
    "        \n",
    "for i in range(len(test)-1):\n",
    "    OI.append(d_V_b[i]-d_V_a[i])\n",
    "\n",
    "test['OI'] = OI\n",
    "\n",
    "\n",
    "for i in range(1, 6):\n",
    "    test['OI-' + str(2*i) + ''] = test.OI.shift(periods=2*i)\n",
    "test = test.drop(test.index[range(10)])\n",
    "test_OI = test.drop(test.columns[[0,1,2,3,4,5]], axis = 1)\n",
    "test_Y = test.drop(test.columns[[0,1,2,3,4,6,7,8,9,10,11]], axis = 1)\n",
    "regr.fit(test_OI, test_Y)\n",
    "\n",
    "mod = sm.OLS(test_Y, test_OI).fit()\n",
    "print(mod.summary())"
   ]
  },
  {
   "cell_type": "markdown",
   "id": "b5b3cd2f",
   "metadata": {},
   "source": [
    "## Task 4: Nonlinear regression  and Subset Slection (20%) "
   ]
  },
  {
   "cell_type": "markdown",
   "id": "c5d73688",
   "metadata": {},
   "source": [
    "Build interaction terms and square terms  out of $[OI_t, OI_{t-2},OI_{t-4},OI_{t-6},OI_{t-8}, OI_{t-10}]$.   Apply best subset selection with indirected criterion (Adjusted Rsquare).  Evaluate your model in Test dataset. "
   ]
  },
  {
   "cell_type": "code",
   "execution_count": null,
   "id": "5d1ac91a",
   "metadata": {},
   "outputs": [],
   "source": []
  },
  {
   "cell_type": "code",
   "execution_count": null,
   "id": "f23e34ac",
   "metadata": {},
   "outputs": [],
   "source": []
  }
 ],
 "metadata": {
  "kernelspec": {
   "display_name": "Python 3",
   "language": "python",
   "name": "python3"
  },
  "language_info": {
   "codemirror_mode": {
    "name": "ipython",
    "version": 3
   },
   "file_extension": ".py",
   "mimetype": "text/x-python",
   "name": "python",
   "nbconvert_exporter": "python",
   "pygments_lexer": "ipython3",
   "version": "3.8.8"
  },
  "nteract": {
   "version": "0.28.0"
  }
 },
 "nbformat": 4,
 "nbformat_minor": 5
}
