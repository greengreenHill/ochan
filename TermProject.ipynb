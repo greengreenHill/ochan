{
 "cells": [
  {
   "cell_type": "markdown",
   "metadata": {},
   "source": [
    "<header style=\" text-align: center; color:blue; font-size:45px\">Order Imbalance Based Strategy</header>"
   ]
  },
  {
   "cell_type": "markdown",
   "metadata": {},
   "source": [
    "<h1 style=\"color:purple\">Author</h1>\n",
    "\n",
    "  \n",
    "- Name:                      \n",
    "- Student ID: \n"
   ]
  },
  {
   "cell_type": "markdown",
   "metadata": {},
   "source": [
    "## Introduction"
   ]
  },
  {
   "cell_type": "markdown",
   "metadata": {},
   "source": [
    "Many studies have been conducted to describe the relationship between the trade activity(volume) and the price change. Ask (Sell) and Bid (Buy) orders on the border book might signal the direction of market movement. To  model the possible pattern between the order imbalance (between ask and bid sides) and price change, we will build new predictors and check the performance of multiple linear regression in paper trading (backtesting with historical data). \n",
    "\n",
    "In this project, you will finish 4 tasks independently. It is not a copy-and-paste project. But if you can complete this project by yourself, it shows that you have passed the entry-level as a data analyst. "
   ]
  },
  {
   "cell_type": "markdown",
   "metadata": {},
   "source": [
    "## Data"
   ]
  },
  {
   "cell_type": "markdown",
   "metadata": {},
   "source": [
    "Totally we have 10 days' data"
   ]
  },
  {
   "cell_type": "code",
   "execution_count": 1,
   "metadata": {},
   "outputs": [],
   "source": [
    "import pandas as pd\n",
    "import numpy as np\n",
    "import os, math, pathlib\n",
    "from os import listdir\n",
    "from multiprocessing import Process\n",
    "import warnings\n",
    "warnings.filterwarnings('ignore')"
   ]
  },
  {
   "cell_type": "code",
   "execution_count": 2,
   "metadata": {},
   "outputs": [
    {
     "name": "stdout",
     "output_type": "stream",
     "text": [
      "10\n",
      "['20201221_rb2105.csv', '20201222_rb2105.csv', '20201223_rb2105.csv', '20201224_rb2105.csv', '20201225_rb2105.csv', '20210104_rb2105.csv', '20210105_rb2105.csv', '20210106_rb2105.csv', '20210107_rb2105.csv', '20210108_rb2105.csv']\n"
     ]
    }
   ],
   "source": [
    "stockpath = 'data/'\n",
    "inputfilename = listdir(stockpath) # get all file names in this folder\n",
    "inputfilename = sorted(inputfilename)[:] # sort file names \n",
    "number = len(inputfilename)\n",
    "print(number)\n",
    "print(inputfilename)"
   ]
  },
  {
   "cell_type": "markdown",
   "metadata": {},
   "source": [
    "We list file names for these 10 days.  Notice that they are in time order. "
   ]
  },
  {
   "cell_type": "code",
   "execution_count": 18,
   "metadata": {},
   "outputs": [
    {
     "data": {
      "text/plain": [
       "('20201221_rb2105.csv', '20210108_rb2105.csv')"
      ]
     },
     "execution_count": 18,
     "metadata": {},
     "output_type": "execute_result"
    }
   ],
   "source": [
    "inputfilename[0],inputfilename[-1]"
   ]
  },
  {
   "cell_type": "markdown",
   "metadata": {},
   "source": [
    "For example, we can read the oldest data as follows."
   ]
  },
  {
   "cell_type": "code",
   "execution_count": 3,
   "metadata": {},
   "outputs": [
    {
     "data": {
      "text/html": [
       "<div>\n",
       "<style scoped>\n",
       "    .dataframe tbody tr th:only-of-type {\n",
       "        vertical-align: middle;\n",
       "    }\n",
       "\n",
       "    .dataframe tbody tr th {\n",
       "        vertical-align: top;\n",
       "    }\n",
       "\n",
       "    .dataframe thead th {\n",
       "        text-align: right;\n",
       "    }\n",
       "</style>\n",
       "<table border=\"1\" class=\"dataframe\">\n",
       "  <thead>\n",
       "    <tr style=\"text-align: right;\">\n",
       "      <th></th>\n",
       "      <th>AskPrice</th>\n",
       "      <th>BidPrice</th>\n",
       "      <th>AskVolume</th>\n",
       "      <th>BidVolume</th>\n",
       "    </tr>\n",
       "  </thead>\n",
       "  <tbody>\n",
       "    <tr>\n",
       "      <th>2020-12-21 09:00:00.500</th>\n",
       "      <td>4445.0</td>\n",
       "      <td>4419.0</td>\n",
       "      <td>467.0</td>\n",
       "      <td>87.0</td>\n",
       "    </tr>\n",
       "    <tr>\n",
       "      <th>2020-12-21 09:00:01.000</th>\n",
       "      <td>4445.0</td>\n",
       "      <td>4444.0</td>\n",
       "      <td>88.0</td>\n",
       "      <td>67.0</td>\n",
       "    </tr>\n",
       "    <tr>\n",
       "      <th>2020-12-21 09:00:01.500</th>\n",
       "      <td>4433.0</td>\n",
       "      <td>4420.0</td>\n",
       "      <td>6.0</td>\n",
       "      <td>462.0</td>\n",
       "    </tr>\n",
       "    <tr>\n",
       "      <th>2020-12-21 09:00:02.000</th>\n",
       "      <td>4430.0</td>\n",
       "      <td>4428.0</td>\n",
       "      <td>40.0</td>\n",
       "      <td>9.0</td>\n",
       "    </tr>\n",
       "    <tr>\n",
       "      <th>2020-12-21 09:00:02.500</th>\n",
       "      <td>4427.0</td>\n",
       "      <td>4426.0</td>\n",
       "      <td>1.0</td>\n",
       "      <td>81.0</td>\n",
       "    </tr>\n",
       "  </tbody>\n",
       "</table>\n",
       "</div>"
      ],
      "text/plain": [
       "                         AskPrice  BidPrice  AskVolume  BidVolume\n",
       "2020-12-21 09:00:00.500    4445.0    4419.0      467.0       87.0\n",
       "2020-12-21 09:00:01.000    4445.0    4444.0       88.0       67.0\n",
       "2020-12-21 09:00:01.500    4433.0    4420.0        6.0      462.0\n",
       "2020-12-21 09:00:02.000    4430.0    4428.0       40.0        9.0\n",
       "2020-12-21 09:00:02.500    4427.0    4426.0        1.0       81.0"
      ]
     },
     "execution_count": 3,
     "metadata": {},
     "output_type": "execute_result"
    }
   ],
   "source": [
    "n=10\n",
    "data=pd.read_csv(stockpath+inputfilename[-n],index_col=0)\n",
    "data.head()"
   ]
  },
  {
   "cell_type": "markdown",
   "metadata": {},
   "source": [
    "We  read data on Dec 21 , 2020, which has 4 columns. "
   ]
  },
  {
   "cell_type": "markdown",
   "metadata": {},
   "source": [
    "## Task 1 - Prepare the Train and Test (10%)"
   ]
  },
  {
   "cell_type": "markdown",
   "metadata": {},
   "source": [
    "Please use the first 7 days' data to prepare a training data and the remaining (more recent) 3 days' data as the test data. "
   ]
  },
  {
   "cell_type": "code",
   "execution_count": null,
   "metadata": {},
   "outputs": [],
   "source": []
  },
  {
   "cell_type": "code",
   "execution_count": null,
   "metadata": {},
   "outputs": [],
   "source": []
  },
  {
   "cell_type": "markdown",
   "metadata": {},
   "source": [
    "## Task 2: Build Features (50%)\n",
    "For both training and test data, build predictors and response"
   ]
  },
  {
   "cell_type": "markdown",
   "metadata": {},
   "source": [
    "First build mid price\n",
    "$$Mid_t=\\frac{AskPrice_t+BidPrice_t}{2}$$"
   ]
  },
  {
   "cell_type": "markdown",
   "metadata": {},
   "source": [
    "The frequency of the data is 0.5 second. We want to predict the price change in 10 seconds. Build Y variable \n",
    "$$\n",
    "Y_t=\\frac{Mid_{t+1}+Mid_{t+2}+\\ldots+Mid_{t+20}}{20}-Mid_t\n",
    "$$\n",
    "That is, we calculate the average changes of prices for the next 10 seconds.  "
   ]
  },
  {
   "cell_type": "markdown",
   "metadata": {},
   "source": [
    "Next we build predictors "
   ]
  },
  {
   "cell_type": "markdown",
   "metadata": {},
   "source": [
    "#### Volume Order ImBalance"
   ]
  },
  {
   "cell_type": "markdown",
   "metadata": {},
   "source": [
    "First Build \n",
    "$$\n",
    "OI_t=\\delta V_t^B-\\delta V_t^A\n",
    "$$"
   ]
  },
  {
   "cell_type": "markdown",
   "metadata": {},
   "source": [
    "where\n",
    "\n",
    "$$\n",
    "\\delta V_t^B=\\left\\{\\begin{array}{cl}0, & \\mbox { if } P_t^B<P_{t-1}^B\\\\V_t^B-V_{t-1}^B, & \\mbox { if } P_t^B=P_{t-1}^B\\\\V_{t}^B, & \\mbox { if } P_t^B>P_{t-1}^B\\end{array}\\right.\n",
    "$$\n",
    "and \n",
    "$$\n",
    "\\delta V_t^A=\\left\\{\\begin{array}{cl}V_t^A, & \\mbox { if } P_t^A<P_{t-1}^A\\\\V_t^A-V_{t-1}^A, & \\mbox { if } P_t^A=P_{t-1}^A\\\\0, & \\mbox { if } P_t^A>P_{t-1}^A\\end{array}\\right.\n",
    "$$"
   ]
  },
  {
   "cell_type": "markdown",
   "metadata": {},
   "source": [
    "where $V_t^A,V_t^B$ are ask and bid volumes, $P_t^A,P_t^B$ are ask and bid prices"
   ]
  },
  {
   "cell_type": "markdown",
   "metadata": {},
   "source": [
    "Use shift(2),shift(4) ... operators, we  build $OI_{t-2},OI_{t-4},OI_{t-6},OI_{t-8}, OI_{t-10}$, totally 6 predictors including $OI_t$"
   ]
  },
  {
   "cell_type": "markdown",
   "metadata": {},
   "source": [
    "## Task 3: Make Multiple Linear Regression (20%)"
   ]
  },
  {
   "cell_type": "markdown",
   "metadata": {},
   "source": [
    "Build multiple linear regression to predict $Y_t$ with $[OI_t, OI_{t-2},OI_{t-4},OI_{t-6},OI_{t-8}, OI_{t-10}]$ in training data. "
   ]
  },
  {
   "cell_type": "markdown",
   "metadata": {},
   "source": [
    "Check if there exists multicollinearity and check the residuals to see if the assumptions are satisfied. Discuss your results. "
   ]
  },
  {
   "cell_type": "markdown",
   "metadata": {},
   "source": [
    "Using the model you build with training data, get predictions in both training and test data. Comparing Adjusted $R^2$ of the model in both train and test datasets, how to evaluate your model? Overfitting? Good Signal?"
   ]
  },
  {
   "cell_type": "markdown",
   "metadata": {},
   "source": [
    "## Task 4: Nonlinear regression  and Subset Slection (20%) "
   ]
  },
  {
   "cell_type": "markdown",
   "metadata": {},
   "source": [
    "Build interaction terms and square terms  out of $[OI_t, OI_{t-2},OI_{t-4},OI_{t-6},OI_{t-8}, OI_{t-10}]$.   Apply best subset selection with indirected criterion (Adjusted Rsquare).  Evaluate your model in Test dataset. "
   ]
  }
 ],
 "metadata": {
  "kernelspec": {
   "display_name": "Python 3",
   "language": "python",
   "name": "python3"
  },
  "language_info": {
   "codemirror_mode": {
    "name": "ipython",
    "version": 3
   },
   "file_extension": ".py",
   "mimetype": "text/x-python",
   "name": "python",
   "nbconvert_exporter": "python",
   "pygments_lexer": "ipython3",
   "version": "3.8.3"
  },
  "nteract": {
   "version": "0.28.0"
  }
 },
 "nbformat": 4,
 "nbformat_minor": 5
}
